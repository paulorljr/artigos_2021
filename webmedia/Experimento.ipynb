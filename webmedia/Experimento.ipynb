{
 "cells": [
  {
   "cell_type": "code",
   "execution_count": null,
   "metadata": {},
   "outputs": [],
   "source": [
    "import librosa\n",
    "import librosa.display\n",
    "import IPython\n",
    "import numpy as np\n",
    "import pandas as pd\n",
    "import scipy as sp\n",
    "import sklearn\n",
    "import matplotlib.pyplot as plt\n",
    "plt.rcParams['figure.dpi'] = 100\n",
    "plt.rcParams['savefig.dpi'] = 600\n",
    "plt.rcParams['font.size'] = 16\n",
    "plt.rcParams['font.family'] = 'sans-serif'\n",
    "plt.rcParams['savefig.transparent'] = True\n",
    "plt.rcParams['savefig.bbox']='tight'"
   ]
  },
  {
   "cell_type": "markdown",
   "metadata": {},
   "source": [
    "### Funções implementadas"
   ]
  },
  {
   "cell_type": "markdown",
   "metadata": {},
   "source": [
    "__1a. Função: carga dos arquivos -__ a função faz a carga dos arquivos selecionados, tendo como único parâmetro de entrada a `amostra` considerada no experimento, relacionada com a identificação da amostra da áudio do VERBO.\n",
    "\n",
    "Retorna um dataframe com cada sentimento considerado em uma das colunas e a frequencia de amostragem."
   ]
  },
  {
   "cell_type": "code",
   "execution_count": null,
   "metadata": {},
   "outputs": [],
   "source": [
    "def load_audios(amostra):\n",
    "    ID_sentimentos = ['ale', 'des', 'med', 'neu', 'rai', 'sur', 'tri']\n",
    "    df = pd.DataFrame()\n",
    "    for i in range(7):\n",
    "        x, fa = librosa.load(ID_sentimentos[i] + '-' + amostra + '.wav', duration=2.0)\n",
    "        df[sentimentos[i]] = x\n",
    "    return df, fa"
   ]
  },
  {
   "cell_type": "markdown",
   "metadata": {},
   "source": [
    "__2a Função: cálculo das características -__ a função tem como parâmetros de entrada o dataframe com as amostras de audio para cada sentimento, colocados em cada coluna, a característica a ser calculada e a frequencia de amostragem e retorna outro dataframe, com o cálculo de cada uma das 10 características consideradas:"
   ]
  },
  {
   "cell_type": "code",
   "execution_count": null,
   "metadata": {},
   "outputs": [],
   "source": [
    "def feat_calc(df, feature, fs):\n",
    "    sentimentos = ['Alegria', 'Desgosto', 'Medo', 'Neutro', 'Raiva', 'Surpresa', 'Tristeza']\n",
    "    df_feat = pd.DataFrame()\n",
    "    for i in range(7):\n",
    "        if feature == 'zcr':\n",
    "            ZCR = librosa.feature.zero_crossing_rate(df[sentimentos[i]].values)\n",
    "            df_feat[sentimentos[i]] = ZCR[0]\n",
    "        elif feature == 'rmse':\n",
    "            RMSE = librosa.feature.rms(df[sentimentos[i]].values)\n",
    "            df_feat[sentimentos[i]] = RMSE[0]\n",
    "        elif feature == 'ch':\n",
    "            CH = librosa.effects.harmonic(df[sentimentos[i]].values)\n",
    "            df_feat[sentimentos[i]] = CH\n",
    "        elif feature == 'cp':\n",
    "            CP = librosa.effects.percussive(df[sentimentos[i]].values)\n",
    "            df_feat[sentimentos[i]] = CP\n",
    "        elif feature == 'tn':\n",
    "            TN = librosa.feature.tonnetz(df[sentimentos[i]].values, sr=fs).flatten()\n",
    "            df_feat[sentimentos[i]] = TN\n",
    "        elif feature == 'ctt':\n",
    "            CTT = librosa.feature.spectral_contrast(df[sentimentos[i]].values).flatten()\n",
    "            df_feat[sentimentos[i]] = CTT\n",
    "        elif feature == 'sc':\n",
    "            SC = librosa.feature.spectral_centroid(df[sentimentos[i]].values)\n",
    "            df_feat[sentimentos[i]] = SC[0]\n",
    "        elif feature == 'cg':\n",
    "            CG = librosa.feature.chroma_stft(df[sentimentos[i]].values)\n",
    "            df_feat[sentimentos[i]] = CG[0]\n",
    "        elif feature == 'sr':\n",
    "            SR = librosa.feature.spectral_rolloff(df[sentimentos[i]].values)\n",
    "            df_feat[sentimentos[i]] = SR[0]\n",
    "        elif feature == 'mfcc':\n",
    "            MFCC = librosa.feature.mfcc(df[sentimentos[i]].values).flatten()\n",
    "            df_feat[sentimentos[i]] = MFCC\n",
    "    return df_feat.T"
   ]
  },
  {
   "cell_type": "markdown",
   "metadata": {},
   "source": [
    "__3a. Função: cálculo do índice de relevância de característica para Análise de sentimento (Feature Relevance Index for Sentiment Analysis - FRI4SA) -__ a função calcula o índice que nós estamos propondo no artigo, tendo como única entrada o dataframe de saída da função `feat_calc`."
   ]
  },
  {
   "cell_type": "code",
   "execution_count": null,
   "metadata": {},
   "outputs": [],
   "source": [
    "def FRI4SA(dataframe):\n",
    "    sim = 1 - sp.spatial.distance.pdist(dataframe, metric = 'cosine')\n",
    "    return np.abs(sp.stats.median_abs_deviation(sim, scale = 1/1.540681)/np.median(sim))"
   ]
  },
  {
   "cell_type": "markdown",
   "metadata": {},
   "source": [
    "### Organização do experimento"
   ]
  },
  {
   "cell_type": "markdown",
   "metadata": {},
   "source": [
    "No nosso experimento iremos analisar 4 frases do conjunto verbo:\n",
    "\n",
    "* `f1-l2`\n",
    "* `f1-l3`\n",
    "* `m1-l2`\n",
    "* `m1-l3`\n",
    "\n",
    "sendo `f1` e `m1` referentes a primeira amostra de voz feminina e masculina, respectivamente, e `l2` e `l3` referentes as frases \"_No próximo outono, Antônio vai a Minas em quinze de outubro_\" e \"_Agora vou pôr a camiseta e sair para uma caminhada_\".\n",
    "\n",
    "Para cada uma dessas amostras, iremos analisar as dez características selecionadas\n",
    "\n",
    "1. Zero Crossing Rate (ZCR)\n",
    "2. Valor médio quadrático da Energia (RMSE)\n",
    "3. Componente harmônica (CH)]\n",
    "4. Componente percussiva (CP)\n",
    "5. Tonnetz (TN)\n",
    "6. Contraste (CTT)\n",
    "7. Centroide Espectral (SC)\n",
    "8. Cromagrama (CG)\n",
    "9. Spectral Rolloff (SR)\n",
    "10. Mel-Frequency Cepstral Coefficients (MFCC)\n",
    "\n",
    "calculando o índice de relevância de característica (FRI4SA) para cada uma a partir da similaridade entre os sete sentimentos que o VERBO considera.\n",
    "\n",
    "Nosso fluxo então será:\n",
    "\n",
    "1. carregar as sete amostras relativas a cada sentimento para a frase e gênero escolhido, usando a função `load_audios()`;\n",
    "2. a partir da saída da função `load_audios()`, as características serão calculadas usando a função `feat_calc()` para todos os sentimentos;\n",
    "3. Com o vetor referente a característica obtido como saída da função `feat_calc()`, calculamos o FRI4SA, usando a função `FRI4SA()`, que retorna um valor para cada característica;\n",
    "4. após armazenar o valor do FRI4SA para todas as características em um vetor, iremos obter um gráfico de barras para poder ter uma percepção visual da relevância de todas as características."
   ]
  },
  {
   "cell_type": "markdown",
   "metadata": {},
   "source": [
    "Para podermos automatizar o processo, consideremos as seguintes listas."
   ]
  },
  {
   "cell_type": "code",
   "execution_count": null,
   "metadata": {},
   "outputs": [],
   "source": [
    "amostra = ['f1-l2', 'f1-l3', 'm1-l2', 'm1-l3']\n",
    "ID_sentimentos = ['ale', 'des', 'med', 'neu', 'rai', 'sur', 'tri']\n",
    "sentimentos = ['Alegria', 'Desgosto', 'Medo', 'Neutro', 'Raiva', 'Surpresa', 'Tristeza']\n",
    "caracteristicas = ['zcr', 'rmse', 'ch', 'cp', 'tn', 'ctt', 'sc', 'cg', 'sr', 'mfcc']"
   ]
  },
  {
   "cell_type": "markdown",
   "metadata": {},
   "source": [
    "O laço a seguir é a parte principal do experimento, que gera um dataframe em que os índices são as características e as colunas são as amostras."
   ]
  },
  {
   "cell_type": "code",
   "execution_count": null,
   "metadata": {},
   "outputs": [],
   "source": [
    "index = []\n",
    "resultado = pd.DataFrame(index=caracteristicas)\n",
    "for i in amostra:\n",
    "    x, fa = load_audios(i)\n",
    "    for j in caracteristicas: index.append(FRI4SA(feat_calc(x, j, fa)))\n",
    "    resultado[i] = index"
   ]
  },
  {
   "cell_type": "markdown",
   "metadata": {},
   "source": [
    "Por fim, vamor gerar os gráficos com alta resolução de todas as colunas do dataframe `resultados`, salvando eles como uma figura em pdf."
   ]
  },
  {
   "cell_type": "code",
   "execution_count": null,
   "metadata": {},
   "outputs": [],
   "source": [
    "for a in amostra:\n",
    "    resultado[a].plot.bar(grid=True, legend=False, xlabel = 'Features', ylabel = 'FRI4SA', fontsize=12, rot=0)\n",
    "    plt.savefig(a+'.pdf')"
   ]
  }
 ],
 "metadata": {
  "kernelspec": {
   "display_name": "Python 3",
   "language": "python",
   "name": "python3"
  },
  "language_info": {
   "codemirror_mode": {
    "name": "ipython",
    "version": 3
   },
   "file_extension": ".py",
   "mimetype": "text/x-python",
   "name": "python",
   "nbconvert_exporter": "python",
   "pygments_lexer": "ipython3",
   "version": "3.8.5"
  }
 },
 "nbformat": 4,
 "nbformat_minor": 4
}
